{
 "cells": [
  {
   "cell_type": "code",
   "execution_count": 1,
   "id": "2055423b",
   "metadata": {},
   "outputs": [],
   "source": [
    "# Import Dependencies\n",
    "\n",
    "import pandas as pd\n",
    "import numpy as np\n",
    "import seaborn as sns\n",
    "from sklearn.linear_model import LinearRegression\n",
    "from sklearn.model_selection import train_test_split\n",
    "from sklearn.metrics import mean_squared_error\n",
    "from sklearn.metrics import r2_score\n",
    "from sklearn import preprocessing\n",
    "import xgboost as xg"
   ]
  },
  {
   "cell_type": "code",
   "execution_count": 2,
   "id": "575aa14c",
   "metadata": {},
   "outputs": [
    {
     "data": {
      "text/html": [
       "<div>\n",
       "<style scoped>\n",
       "    .dataframe tbody tr th:only-of-type {\n",
       "        vertical-align: middle;\n",
       "    }\n",
       "\n",
       "    .dataframe tbody tr th {\n",
       "        vertical-align: top;\n",
       "    }\n",
       "\n",
       "    .dataframe thead th {\n",
       "        text-align: right;\n",
       "    }\n",
       "</style>\n",
       "<table border=\"1\" class=\"dataframe\">\n",
       "  <thead>\n",
       "    <tr style=\"text-align: right;\">\n",
       "      <th></th>\n",
       "      <th>MONATSZAHL</th>\n",
       "      <th>AUSPRAEGUNG</th>\n",
       "      <th>JAHR</th>\n",
       "      <th>MONAT</th>\n",
       "      <th>WERT</th>\n",
       "      <th>VORJAHRESWERT</th>\n",
       "      <th>VERAEND_VORMONAT_PROZENT</th>\n",
       "      <th>VERAEND_VORJAHRESMONAT_PROZENT</th>\n",
       "      <th>ZWOELF_MONATE_MITTELWERT</th>\n",
       "    </tr>\n",
       "  </thead>\n",
       "  <tbody>\n",
       "    <tr>\n",
       "      <th>0</th>\n",
       "      <td>Alkoholunfälle</td>\n",
       "      <td>insgesamt</td>\n",
       "      <td>2021</td>\n",
       "      <td>202101</td>\n",
       "      <td>NaN</td>\n",
       "      <td>28.0</td>\n",
       "      <td>NaN</td>\n",
       "      <td>NaN</td>\n",
       "      <td>NaN</td>\n",
       "    </tr>\n",
       "    <tr>\n",
       "      <th>1</th>\n",
       "      <td>Alkoholunfälle</td>\n",
       "      <td>insgesamt</td>\n",
       "      <td>2021</td>\n",
       "      <td>202102</td>\n",
       "      <td>NaN</td>\n",
       "      <td>40.0</td>\n",
       "      <td>NaN</td>\n",
       "      <td>NaN</td>\n",
       "      <td>NaN</td>\n",
       "    </tr>\n",
       "    <tr>\n",
       "      <th>2</th>\n",
       "      <td>Alkoholunfälle</td>\n",
       "      <td>insgesamt</td>\n",
       "      <td>2021</td>\n",
       "      <td>202103</td>\n",
       "      <td>NaN</td>\n",
       "      <td>27.0</td>\n",
       "      <td>NaN</td>\n",
       "      <td>NaN</td>\n",
       "      <td>NaN</td>\n",
       "    </tr>\n",
       "    <tr>\n",
       "      <th>3</th>\n",
       "      <td>Alkoholunfälle</td>\n",
       "      <td>insgesamt</td>\n",
       "      <td>2021</td>\n",
       "      <td>202104</td>\n",
       "      <td>NaN</td>\n",
       "      <td>26.0</td>\n",
       "      <td>NaN</td>\n",
       "      <td>NaN</td>\n",
       "      <td>NaN</td>\n",
       "    </tr>\n",
       "    <tr>\n",
       "      <th>4</th>\n",
       "      <td>Alkoholunfälle</td>\n",
       "      <td>insgesamt</td>\n",
       "      <td>2021</td>\n",
       "      <td>202105</td>\n",
       "      <td>NaN</td>\n",
       "      <td>40.0</td>\n",
       "      <td>NaN</td>\n",
       "      <td>NaN</td>\n",
       "      <td>NaN</td>\n",
       "    </tr>\n",
       "  </tbody>\n",
       "</table>\n",
       "</div>"
      ],
      "text/plain": [
       "       MONATSZAHL AUSPRAEGUNG  JAHR   MONAT  WERT  VORJAHRESWERT  \\\n",
       "0  Alkoholunfälle   insgesamt  2021  202101   NaN           28.0   \n",
       "1  Alkoholunfälle   insgesamt  2021  202102   NaN           40.0   \n",
       "2  Alkoholunfälle   insgesamt  2021  202103   NaN           27.0   \n",
       "3  Alkoholunfälle   insgesamt  2021  202104   NaN           26.0   \n",
       "4  Alkoholunfälle   insgesamt  2021  202105   NaN           40.0   \n",
       "\n",
       "   VERAEND_VORMONAT_PROZENT  VERAEND_VORJAHRESMONAT_PROZENT  \\\n",
       "0                       NaN                             NaN   \n",
       "1                       NaN                             NaN   \n",
       "2                       NaN                             NaN   \n",
       "3                       NaN                             NaN   \n",
       "4                       NaN                             NaN   \n",
       "\n",
       "   ZWOELF_MONATE_MITTELWERT  \n",
       "0                       NaN  \n",
       "1                       NaN  \n",
       "2                       NaN  \n",
       "3                       NaN  \n",
       "4                       NaN  "
      ]
     },
     "execution_count": 2,
     "metadata": {},
     "output_type": "execute_result"
    }
   ],
   "source": [
    "# Read file\n",
    "df = pd.read_csv(\"./data.csv\")\n",
    "df.head()"
   ]
  },
  {
   "cell_type": "code",
   "execution_count": 3,
   "id": "01921f14",
   "metadata": {},
   "outputs": [
    {
     "data": {
      "text/plain": [
       "(1995, 9)"
      ]
     },
     "execution_count": 3,
     "metadata": {},
     "output_type": "execute_result"
    }
   ],
   "source": [
    "df.shape"
   ]
  },
  {
   "cell_type": "code",
   "execution_count": 4,
   "id": "d0144306",
   "metadata": {},
   "outputs": [],
   "source": [
    "# Selection of columns\n",
    "df = df.iloc[:,:5]"
   ]
  },
  {
   "cell_type": "code",
   "execution_count": 5,
   "id": "18c2dbac",
   "metadata": {},
   "outputs": [
    {
     "name": "stdout",
     "output_type": "stream",
     "text": [
      "<class 'pandas.core.frame.DataFrame'>\n",
      "RangeIndex: 1995 entries, 0 to 1994\n",
      "Data columns (total 5 columns):\n",
      " #   Column       Non-Null Count  Dtype  \n",
      "---  ------       --------------  -----  \n",
      " 0   MONATSZAHL   1995 non-null   object \n",
      " 1   AUSPRAEGUNG  1995 non-null   object \n",
      " 2   JAHR         1995 non-null   int64  \n",
      " 3   MONAT        1995 non-null   object \n",
      " 4   WERT         1911 non-null   float64\n",
      "dtypes: float64(1), int64(1), object(3)\n",
      "memory usage: 78.1+ KB\n"
     ]
    }
   ],
   "source": [
    "df.info()"
   ]
  },
  {
   "cell_type": "code",
   "execution_count": 6,
   "id": "c99e9ba5",
   "metadata": {},
   "outputs": [
    {
     "data": {
      "text/plain": [
       "False    1911\n",
       "True       84\n",
       "Name: WERT, dtype: int64"
      ]
     },
     "execution_count": 6,
     "metadata": {},
     "output_type": "execute_result"
    }
   ],
   "source": [
    "# Checking NaN values\n",
    "df[\"WERT\"].isna().value_counts()"
   ]
  },
  {
   "cell_type": "code",
   "execution_count": 7,
   "id": "fc5ccedb",
   "metadata": {},
   "outputs": [
    {
     "data": {
      "text/plain": [
       "array(['202101', '202102', '202103', '202104', '202105', '202106',\n",
       "       '202107', '202108', '202109', '202110', '202111', '202112',\n",
       "       'Summe', '202001', '202002', '202003', '202004', '202005',\n",
       "       '202006', '202007', '202008', '202009', '202010', '202011',\n",
       "       '202012', '201901', '201902', '201903', '201904', '201905',\n",
       "       '201906', '201907', '201908', '201909', '201910', '201911',\n",
       "       '201912', '201801', '201802', '201803', '201804', '201805',\n",
       "       '201806', '201807', '201808', '201809', '201810', '201811',\n",
       "       '201812', '201701', '201702', '201703', '201704', '201705',\n",
       "       '201706', '201707', '201708', '201709', '201710', '201711',\n",
       "       '201712', '201601', '201602', '201603', '201604', '201605',\n",
       "       '201606', '201607', '201608', '201609', '201610', '201611',\n",
       "       '201612', '201501', '201502', '201503', '201504', '201505',\n",
       "       '201506', '201507', '201508', '201509', '201510', '201511',\n",
       "       '201512', '201401', '201402', '201403', '201404', '201405',\n",
       "       '201406', '201407', '201408', '201409', '201410', '201411',\n",
       "       '201412', '201301', '201302', '201303', '201304', '201305',\n",
       "       '201306', '201307', '201308', '201309', '201310', '201311',\n",
       "       '201312', '201201', '201202', '201203', '201204', '201205',\n",
       "       '201206', '201207', '201208', '201209', '201210', '201211',\n",
       "       '201212', '201101', '201102', '201103', '201104', '201105',\n",
       "       '201106', '201107', '201108', '201109', '201110', '201111',\n",
       "       '201112', '201001', '201002', '201003', '201004', '201005',\n",
       "       '201006', '201007', '201008', '201009', '201010', '201011',\n",
       "       '201012', '200901', '200902', '200903', '200904', '200905',\n",
       "       '200906', '200907', '200908', '200909', '200910', '200911',\n",
       "       '200912', '200801', '200802', '200803', '200804', '200805',\n",
       "       '200806', '200807', '200808', '200809', '200810', '200811',\n",
       "       '200812', '200701', '200702', '200703', '200704', '200705',\n",
       "       '200706', '200707', '200708', '200709', '200710', '200711',\n",
       "       '200712', '200601', '200602', '200603', '200604', '200605',\n",
       "       '200606', '200607', '200608', '200609', '200610', '200611',\n",
       "       '200612', '200501', '200502', '200503', '200504', '200505',\n",
       "       '200506', '200507', '200508', '200509', '200510', '200511',\n",
       "       '200512', '200401', '200402', '200403', '200404', '200405',\n",
       "       '200406', '200407', '200408', '200409', '200410', '200411',\n",
       "       '200412', '200301', '200302', '200303', '200304', '200305',\n",
       "       '200306', '200307', '200308', '200309', '200310', '200311',\n",
       "       '200312', '200201', '200202', '200203', '200204', '200205',\n",
       "       '200206', '200207', '200208', '200209', '200210', '200211',\n",
       "       '200212', '200101', '200102', '200103', '200104', '200105',\n",
       "       '200106', '200107', '200108', '200109', '200110', '200111',\n",
       "       '200112', '200001', '200002', '200003', '200004', '200005',\n",
       "       '200006', '200007', '200008', '200009', '200010', '200011',\n",
       "       '200012'], dtype=object)"
      ]
     },
     "execution_count": 7,
     "metadata": {},
     "output_type": "execute_result"
    }
   ],
   "source": [
    "df[\"MONAT\"].unique()"
   ]
  },
  {
   "cell_type": "code",
   "execution_count": 8,
   "id": "9cd83b8a",
   "metadata": {},
   "outputs": [],
   "source": [
    "# Removing Summe from MONAT Column \n",
    "df = df[~df[\"MONAT\"].isin([\"Summe\"])]"
   ]
  },
  {
   "cell_type": "code",
   "execution_count": 9,
   "id": "4b3ba334",
   "metadata": {},
   "outputs": [
    {
     "data": {
      "text/plain": [
       "array(['Alkoholunfälle', 'Fluchtunfälle', 'Verkehrsunfälle'], dtype=object)"
      ]
     },
     "execution_count": 9,
     "metadata": {},
     "output_type": "execute_result"
    }
   ],
   "source": [
    "df[\"MONATSZAHL\"].unique()"
   ]
  },
  {
   "cell_type": "code",
   "execution_count": 10,
   "id": "b029075c",
   "metadata": {},
   "outputs": [
    {
     "data": {
      "text/html": [
       "<div>\n",
       "<style scoped>\n",
       "    .dataframe tbody tr th:only-of-type {\n",
       "        vertical-align: middle;\n",
       "    }\n",
       "\n",
       "    .dataframe tbody tr th {\n",
       "        vertical-align: top;\n",
       "    }\n",
       "\n",
       "    .dataframe thead th {\n",
       "        text-align: right;\n",
       "    }\n",
       "</style>\n",
       "<table border=\"1\" class=\"dataframe\">\n",
       "  <thead>\n",
       "    <tr style=\"text-align: right;\">\n",
       "      <th></th>\n",
       "      <th>MONATSZAHL</th>\n",
       "      <th>WERT</th>\n",
       "    </tr>\n",
       "  </thead>\n",
       "  <tbody>\n",
       "    <tr>\n",
       "      <th>0</th>\n",
       "      <td>Alkoholunfälle</td>\n",
       "      <td>16242.0</td>\n",
       "    </tr>\n",
       "    <tr>\n",
       "      <th>1</th>\n",
       "      <td>Fluchtunfälle</td>\n",
       "      <td>232928.0</td>\n",
       "    </tr>\n",
       "    <tr>\n",
       "      <th>2</th>\n",
       "      <td>Verkehrsunfälle</td>\n",
       "      <td>1127266.0</td>\n",
       "    </tr>\n",
       "  </tbody>\n",
       "</table>\n",
       "</div>"
      ],
      "text/plain": [
       "        MONATSZAHL       WERT\n",
       "0   Alkoholunfälle    16242.0\n",
       "1    Fluchtunfälle   232928.0\n",
       "2  Verkehrsunfälle  1127266.0"
      ]
     },
     "execution_count": 10,
     "metadata": {},
     "output_type": "execute_result"
    }
   ],
   "source": [
    "# Grouping by category and summing up accidents\n",
    "\n",
    "cat1 = df.groupby([\"MONATSZAHL\"], as_index = False)[\"WERT\"].sum()\n",
    "cat1"
   ]
  },
  {
   "cell_type": "code",
   "execution_count": 11,
   "id": "a6cea93d",
   "metadata": {},
   "outputs": [],
   "source": [
    "# Converting string variable to int. LabelEncoder could have been used here\n",
    "le = preprocessing.LabelEncoder()\n",
    "le.fit(df[\"MONATSZAHL\"])\n",
    "df[\"MONATSZAHL\"] = le.transform(df[\"MONATSZAHL\"])\n",
    "\n",
    "le1 = preprocessing.LabelEncoder()\n",
    "le1.fit(df[\"AUSPRAEGUNG\"])\n",
    "df[\"AUSPRAEGUNG\"] = le1.transform(df[\"AUSPRAEGUNG\"])"
   ]
  },
  {
   "cell_type": "code",
   "execution_count": 12,
   "id": "4f5d4950",
   "metadata": {},
   "outputs": [],
   "source": [
    "# Extracting only Month value\n",
    "df[\"MONAT\"] = df[\"MONAT\"].apply(lambda x : x[4:])\n",
    "# Dropping Na\n",
    "df.dropna(inplace = True)\n",
    "\n",
    "# X,y values\n",
    "X = df.iloc[:,:4].values\n",
    "y = df.iloc[:,-1].values"
   ]
  },
  {
   "cell_type": "markdown",
   "id": "62760293",
   "metadata": {},
   "source": [
    "### Visualization"
   ]
  },
  {
   "cell_type": "code",
   "execution_count": 13,
   "id": "28cc0841",
   "metadata": {},
   "outputs": [],
   "source": [
    "# Visualization \n",
    "import matplotlib as mpl \n",
    "import matplotlib.pyplot as plt \n",
    "import matplotlib.gridspec as gridspec \n",
    "import matplotlib.patheffects as path_effects\n",
    "\n",
    "from highlight_text import htext, fig_text, HighlightText, ax_text\n",
    "\n",
    "# Image\n",
    "from PIL import Image\n",
    "import requests\n",
    "from io import BytesIO"
   ]
  },
  {
   "cell_type": "code",
   "execution_count": 14,
   "id": "a541d3eb",
   "metadata": {},
   "outputs": [],
   "source": [
    "# Visualization variables initialization\n",
    "\n",
    "background = \"#404040\"\n",
    "text_color = \"w\"\n",
    "\n",
    "mpl.rcParams['xtick.color'] = text_color\n",
    "mpl.rcParams['ytick.color'] = text_color\n",
    "mpl.rcParams['xtick.labelsize'] = 10\n",
    "mpl.rcParams['ytick.labelsize'] = 10\n",
    "\n",
    "filler = \"grey\"\n",
    "primary =\"red\"\n",
    "\n",
    "title_font = \"Kanit\"\n",
    "body_font = \"Heebo\""
   ]
  },
  {
   "cell_type": "markdown",
   "id": "b67a1e3f",
   "metadata": {},
   "source": [
    "#### Using my custom plot "
   ]
  },
  {
   "cell_type": "code",
   "execution_count": 15,
   "id": "d65026f1",
   "metadata": {},
   "outputs": [
    {
     "name": "stderr",
     "output_type": "stream",
     "text": [
      "C:\\Users\\Harry\\anaconda3\\lib\\site-packages\\ipykernel_launcher.py:48: UserWarning: This figure includes Axes that are not compatible with tight_layout, so results might be incorrect.\n"
     ]
    },
    {
     "data": {
      "image/png": "[encoded data removed]",
      "text/plain": [
       "<Figure size 1152x504 with 2 Axes>"
      ]
     },
     "metadata": {},
     "output_type": "display_data"
    }
   ],
   "source": [
    "# creating figure and axes\n",
    "fig, ax = plt.subplots(figsize=(16,7))\n",
    "fig.set_facecolor(background)\n",
    "ax.patch.set_facecolor(background)\n",
    "\n",
    "# adding a grid with zorder and style\n",
    "ax.grid(ls=\"dotted\",lw=\"0.3\",color=\"lightgrey\", zorder= 1, visible = True)\n",
    "\n",
    "# getting our data to plot\n",
    "x = cat1[\"MONATSZAHL\"].values\n",
    "y = cat1[\"WERT\"].values\n",
    "colors = [\"#FF0266\", \"#0378a6\", \"#ffa600\"]\n",
    "\n",
    "ax.bar(x,y, color = colors)\n",
    "\n",
    "# Title \n",
    "fig.text(0.40,1,\"Number of accidents per category\", fontweight=\"regular\", fontsize=22,fontfamily=title_font, color=text_color)\n",
    "\n",
    "# adding x and y labels\n",
    "ax.set_xlabel(\"Category\", fontfamily=title_font, fontweight=\"bold\", fontsize=14, color=text_color)\n",
    "ax.set_ylabel(\"Count\", fontfamily=title_font, fontweight=\"bold\", fontsize= 14, color=text_color)\n",
    "\n",
    "# Spine and Pips\n",
    "ax.tick_params(axis=\"both\", length=0)\n",
    "\n",
    "\n",
    "spines = [\"top\", \"right\", \"bottom\", \"left\"]\n",
    "for spine in spines:\n",
    "    if spine in [\"top\", \"right\"]:\n",
    "        ax.spines[spine].set_visible(False)\n",
    "    else:\n",
    "        ax.spines[spine].set_color(text_color)\n",
    "\n",
    "        \n",
    "# For badge: Adding new axes\n",
    "ax2 = fig.add_axes([0.01,0.99,0.1,0.1])\n",
    "ax2.axis(\"off\")\n",
    "\n",
    "url = \"https://scontent.fdel1-2.fna.fbcdn.net/v/t1.6435-9/37367175_512937642470201_6481847291731771392_n.png?_nc_cat=101&ccb=1-5&_nc_sid=09cbfe&_nc_ohc=-VCH9ZW9gk8AX-Q1JRk&_nc_ht=scontent.fdel1-2.fna&oh=00_AT89bp-eFQ9c09fDSnW69vlamUm5KkCkFA4Po0EPnkZtXg&oe=6236AF3E\"\n",
    "response = requests.get(url)\n",
    "img = Image.open(BytesIO(response.content))\n",
    "ax2.imshow(img)     \n",
    "\n",
    "# Adding Credits\n",
    "fig.text(0.05, -0.028, \"Data Source - München Open Data Portal\", fontstyle=\"italic\", fontsize=12, \n",
    "         fontfamily=body_font, color=text_color)\n",
    "\n",
    "plt.tight_layout()\n",
    "\n",
    "\n",
    "fig.savefig(\"./Accidents_per_category.jpg\", dpi=None)\n",
    "\n",
    "plt.show()"
   ]
  },
  {
   "cell_type": "markdown",
   "id": "4d65c0c1",
   "metadata": {},
   "source": [
    "### Conclusion\n",
    "\n",
    "1. Highest number of accidents are due to Verkehrsunfälle\t1127266\n",
    "2. Lowest number of accidents are due to Alkoholunfälle\t  16242"
   ]
  },
  {
   "cell_type": "markdown",
   "id": "ddc0d616",
   "metadata": {},
   "source": [
    "### Model"
   ]
  },
  {
   "cell_type": "code",
   "execution_count": 16,
   "id": "39b516fb",
   "metadata": {},
   "outputs": [
    {
     "data": {
      "text/html": [
       "<div>\n",
       "<style scoped>\n",
       "    .dataframe tbody tr th:only-of-type {\n",
       "        vertical-align: middle;\n",
       "    }\n",
       "\n",
       "    .dataframe tbody tr th {\n",
       "        vertical-align: top;\n",
       "    }\n",
       "\n",
       "    .dataframe thead th {\n",
       "        text-align: right;\n",
       "    }\n",
       "</style>\n",
       "<table border=\"1\" class=\"dataframe\">\n",
       "  <thead>\n",
       "    <tr style=\"text-align: right;\">\n",
       "      <th></th>\n",
       "      <th>MONATSZAHL</th>\n",
       "      <th>AUSPRAEGUNG</th>\n",
       "      <th>JAHR</th>\n",
       "      <th>MONAT</th>\n",
       "      <th>WERT</th>\n",
       "    </tr>\n",
       "  </thead>\n",
       "  <tbody>\n",
       "    <tr>\n",
       "      <th>13</th>\n",
       "      <td>0</td>\n",
       "      <td>1</td>\n",
       "      <td>2020</td>\n",
       "      <td>01</td>\n",
       "      <td>28.0</td>\n",
       "    </tr>\n",
       "    <tr>\n",
       "      <th>14</th>\n",
       "      <td>0</td>\n",
       "      <td>1</td>\n",
       "      <td>2020</td>\n",
       "      <td>02</td>\n",
       "      <td>40.0</td>\n",
       "    </tr>\n",
       "    <tr>\n",
       "      <th>15</th>\n",
       "      <td>0</td>\n",
       "      <td>1</td>\n",
       "      <td>2020</td>\n",
       "      <td>03</td>\n",
       "      <td>27.0</td>\n",
       "    </tr>\n",
       "    <tr>\n",
       "      <th>16</th>\n",
       "      <td>0</td>\n",
       "      <td>1</td>\n",
       "      <td>2020</td>\n",
       "      <td>04</td>\n",
       "      <td>26.0</td>\n",
       "    </tr>\n",
       "    <tr>\n",
       "      <th>17</th>\n",
       "      <td>0</td>\n",
       "      <td>1</td>\n",
       "      <td>2020</td>\n",
       "      <td>05</td>\n",
       "      <td>40.0</td>\n",
       "    </tr>\n",
       "    <tr>\n",
       "      <th>...</th>\n",
       "      <td>...</td>\n",
       "      <td>...</td>\n",
       "      <td>...</td>\n",
       "      <td>...</td>\n",
       "      <td>...</td>\n",
       "    </tr>\n",
       "    <tr>\n",
       "      <th>1990</th>\n",
       "      <td>2</td>\n",
       "      <td>0</td>\n",
       "      <td>2000</td>\n",
       "      <td>08</td>\n",
       "      <td>647.0</td>\n",
       "    </tr>\n",
       "    <tr>\n",
       "      <th>1991</th>\n",
       "      <td>2</td>\n",
       "      <td>0</td>\n",
       "      <td>2000</td>\n",
       "      <td>09</td>\n",
       "      <td>675.0</td>\n",
       "    </tr>\n",
       "    <tr>\n",
       "      <th>1992</th>\n",
       "      <td>2</td>\n",
       "      <td>0</td>\n",
       "      <td>2000</td>\n",
       "      <td>10</td>\n",
       "      <td>615.0</td>\n",
       "    </tr>\n",
       "    <tr>\n",
       "      <th>1993</th>\n",
       "      <td>2</td>\n",
       "      <td>0</td>\n",
       "      <td>2000</td>\n",
       "      <td>11</td>\n",
       "      <td>578.0</td>\n",
       "    </tr>\n",
       "    <tr>\n",
       "      <th>1994</th>\n",
       "      <td>2</td>\n",
       "      <td>0</td>\n",
       "      <td>2000</td>\n",
       "      <td>12</td>\n",
       "      <td>515.0</td>\n",
       "    </tr>\n",
       "  </tbody>\n",
       "</table>\n",
       "<p>1764 rows × 5 columns</p>\n",
       "</div>"
      ],
      "text/plain": [
       "      MONATSZAHL  AUSPRAEGUNG  JAHR MONAT   WERT\n",
       "13             0            1  2020    01   28.0\n",
       "14             0            1  2020    02   40.0\n",
       "15             0            1  2020    03   27.0\n",
       "16             0            1  2020    04   26.0\n",
       "17             0            1  2020    05   40.0\n",
       "...          ...          ...   ...   ...    ...\n",
       "1990           2            0  2000    08  647.0\n",
       "1991           2            0  2000    09  675.0\n",
       "1992           2            0  2000    10  615.0\n",
       "1993           2            0  2000    11  578.0\n",
       "1994           2            0  2000    12  515.0\n",
       "\n",
       "[1764 rows x 5 columns]"
      ]
     },
     "execution_count": 16,
     "metadata": {},
     "output_type": "execute_result"
    }
   ],
   "source": [
    "df"
   ]
  },
  {
   "cell_type": "code",
   "execution_count": 17,
   "id": "cee2c496",
   "metadata": {},
   "outputs": [],
   "source": [
    "X = df.iloc[:,:4].values\n",
    "y = df.iloc[:,-1].values"
   ]
  },
  {
   "cell_type": "code",
   "execution_count": 18,
   "id": "33118874",
   "metadata": {},
   "outputs": [],
   "source": [
    "# Splitting data for training and testing\n",
    "X_train, X_test, y_train, y_test = train_test_split(X, y, test_size=0.33, random_state=42, shuffle = True)"
   ]
  },
  {
   "cell_type": "code",
   "execution_count": 19,
   "id": "fe519256",
   "metadata": {},
   "outputs": [],
   "source": [
    "# Simple Regression as base model\n",
    "reg = LinearRegression().fit(X_train, y_train)\n",
    "\n",
    "# Prediction \n",
    "y_pred = reg.predict(X_test)"
   ]
  },
  {
   "cell_type": "code",
   "execution_count": 20,
   "id": "f8b88ab0",
   "metadata": {},
   "outputs": [
    {
     "data": {
      "text/plain": [
       "0.2569908470836221"
      ]
     },
     "execution_count": 20,
     "metadata": {},
     "output_type": "execute_result"
    }
   ],
   "source": [
    "# R2 Score\n",
    "r2_score(y_test, y_pred)"
   ]
  },
  {
   "cell_type": "code",
   "execution_count": 21,
   "id": "c978fd0a",
   "metadata": {},
   "outputs": [],
   "source": [
    "# Instantiation of XGB Regression Model\n",
    "xgb_r = xg.XGBRegressor(n_estimators = 10, seed = 123)\n",
    "  \n",
    "# Fitting the model\n",
    "xgb_r.fit(X_train, y_train)\n",
    "  \n",
    "# Predict the model\n",
    "pred = xgb_r.predict(X_test)"
   ]
  },
  {
   "cell_type": "code",
   "execution_count": 22,
   "id": "6ecc4398",
   "metadata": {},
   "outputs": [
    {
     "data": {
      "text/plain": [
       "0.9888224283975608"
      ]
     },
     "execution_count": 22,
     "metadata": {},
     "output_type": "execute_result"
    }
   ],
   "source": [
    "r2_score(y_test, pred)"
   ]
  },
  {
   "cell_type": "markdown",
   "id": "4bda874c",
   "metadata": {},
   "source": [
    "### Conclusion\n",
    "\n",
    "1. LinearRegression has R2Score = 0.25\n",
    "2. Using ensemble learning algorithm XGBoost R2Score = 0.98\n",
    "\n",
    "Hence choosing XGBoost"
   ]
  },
  {
   "cell_type": "code",
   "execution_count": null,
   "id": "9d6af201",
   "metadata": {},
   "outputs": [],
   "source": []
  }
 ],
 "metadata": {
  "kernelspec": {
   "display_name": "Python 3 (ipykernel)",
   "language": "python",
   "name": "python3"
  },
  "language_info": {
   "codemirror_mode": {
    "name": "ipython",
    "version": 3
   },
   "file_extension": ".py",
   "mimetype": "text/x-python",
   "name": "python",
   "nbconvert_exporter": "python",
   "pygments_lexer": "ipython3",
   "version": "3.7.11"
  }
 },
 "nbformat": 4,
 "nbformat_minor": 5
}
